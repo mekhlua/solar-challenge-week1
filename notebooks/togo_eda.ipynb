{
 "cells": [
  {
   "cell_type": "code",
   "execution_count": null,
   "id": "294646cc-5b54-4f54-9667-1af707940a6d",
   "metadata": {},
   "outputs": [],
   "source": [
    "import pandas as pd\n",
    "\n",
    "togo_data = pd.read_csv(r\"C:\\Users\\user\\Desktop\\SolarPlantData.csv\\togo-dapaong_qc.csv\")\n",
    "togo_data.head()"
   ]
  },
  {
   "cell_type": "code",
   "execution_count": null,
   "id": "a5031ebe-6d1e-4cbf-9d92-d1092bbb3f89",
   "metadata": {},
   "outputs": [],
   "source": [
    "print(togo_data.describe())"
   ]
  },
  {
   "cell_type": "code",
   "execution_count": null,
   "id": "b32335cb-6aa8-4df0-bfe7-d99c25621bbb",
   "metadata": {},
   "outputs": [],
   "source": [
    "print(togo_data.isna().sum())"
   ]
  },
  {
   "cell_type": "code",
   "execution_count": null,
   "id": "cc5b1d1b-0c1a-453b-9741-ccf0377a74b9",
   "metadata": {},
   "outputs": [],
   "source": [
    "from scipy.stats import zscore\n",
    "\n",
    "# Calculate Z-scores\n",
    "z_scores = zscore(togo_data[['GHI', 'DNI', 'DHI', 'ModA', 'ModB', 'WS', 'WSgust']])\n",
    "togo_data['Outlier'] = (abs(z_scores) > 3).any(axis=1)"
   ]
  },
  {
   "cell_type": "code",
   "execution_count": null,
   "id": "a3873de4-3b21-4961-a447-7bbd3f4c2a04",
   "metadata": {},
   "outputs": [],
   "source": [
    "import matplotlib.pyplot as plt\n",
    "\n",
    "# Plotting GHI over time\n",
    "togo_data['Timestamp'] = pd.to_datetime(togo_data['Timestamp'])\n",
    "plt.plot(togo_data['Timestamp'], togo_data['GHI'])\n",
    "plt.title('GHI over Time')\n",
    "plt.show()"
   ]
  },
  {
   "cell_type": "code",
   "execution_count": null,
   "id": "90519192-0699-41fc-8f6a-9007150edd72",
   "metadata": {},
   "outputs": [],
   "source": [
    "import seaborn as sns\n",
    "\n",
    "# Correlation heatmap\n",
    "sns.heatmap(togo_data.corr(), annot=True)\n",
    "plt.show()"
   ]
  },
  {
   "cell_type": "code",
   "execution_count": null,
   "id": "74c2c25c-bb9f-40c1-960d-d76505532625",
   "metadata": {},
   "outputs": [],
   "source": [
    "# Histogram for GHI\n",
    "plt.hist(togo_data['GHI'], bins=30)\n",
    "plt.title('Distribution of GHI')\n",
    "plt.show()"
   ]
  },
  {
   "cell_type": "code",
   "execution_count": null,
   "id": "947ed5dd-0b41-432d-85df-f3f5f903d3a4",
   "metadata": {},
   "outputs": [],
   "source": [
    "# Analyze RH vs. Tamb\n",
    "sns.scatterplot(x=togo_data['Tamb'], y=togo_data['RH'])\n",
    "plt.title('Relative Humidity vs Temperature')\n",
    "plt.show()"
   ]
  },
  {
   "cell_type": "code",
   "execution_count": null,
   "id": "926c0f33-b45c-4dbc-8db9-3371e57cad9f",
   "metadata": {},
   "outputs": [],
   "source": [
    "plt.scatter(togo_data['GHI'], togo_data['Tamb'], s=togo_data['RH'] * 10)\n",
    "plt.title('Bubble Chart: GHI vs Tamb')\n",
    "plt.xlabel('GHI')\n",
    "plt.ylabel('Tamb')\n",
    "plt.show()"
   ]
  }
 ],
 "metadata": {
  "kernelspec": {
   "display_name": "Python 3 (ipykernel)",
   "language": "python",
   "name": "python3"
  },
  "language_info": {
   "codemirror_mode": {
    "name": "ipython",
    "version": 3
   },
   "file_extension": ".py",
   "mimetype": "text/x-python",
   "name": "python",
   "nbconvert_exporter": "python",
   "pygments_lexer": "ipython3",
   "version": "3.13.2"
  }
 },
 "nbformat": 4,
 "nbformat_minor": 5
}
